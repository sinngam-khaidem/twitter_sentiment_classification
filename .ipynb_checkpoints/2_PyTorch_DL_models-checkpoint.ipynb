{
  "cells": [
    {
      "cell_type": "markdown",
      "metadata": {
        "id": "zRodNymIiTEp"
      },
      "source": [
        "# PyTorch DL Models"
      ]
    },
    {
      "cell_type": "code",
      "execution_count": 14,
      "metadata": {
        "colab": {
          "base_uri": "https://localhost:8080/"
        },
        "id": "KqpHWiOg3wZx",
        "outputId": "339568b4-5afc-4a12-9897-4680cb2fb73c"
      },
      "outputs": [
        {
          "name": "stdout",
          "output_type": "stream",
          "text": [
            "Python 3.11.5\n"
          ]
        }
      ],
      "source": [
        "!python --version"
      ]
    },
    {
      "cell_type": "code",
      "execution_count": 15,
      "metadata": {
        "id": "DaD9s2pVhK_s"
      },
      "outputs": [],
      "source": [
        "import numpy as np\n",
        "import pandas as pd\n",
        "import matplotlib.pyplot as plt\n",
        "from matplotlib.ticker import FormatStrFormatter\n",
        "\n",
        "# PyTorch\n",
        "import torch\n",
        "import torch.nn as nn\n",
        "import torch.nn.functional as F\n",
        "from torch.utils.data import DataLoader, TensorDataset\n",
        "\n",
        "# keras\n",
        "from tensorflow import keras\n",
        "from keras_preprocessing.text import Tokenizer\n",
        "from keras_preprocessing.sequence import pad_sequences\n",
        "from keras.utils import set_random_seed\n",
        "\n",
        "# sklearn\n",
        "from sklearn.preprocessing import LabelEncoder\n",
        "from sklearn.model_selection import train_test_split\n",
        "from sklearn.metrics import classification_report"
      ]
    },
    {
      "cell_type": "markdown",
      "metadata": {
        "id": "61e-bIsMjujg"
      },
      "source": [
        "## 1. Data Preprocessing"
      ]
    },
    {
      "cell_type": "code",
      "execution_count": 16,
      "metadata": {
        "id": "FchvRmRejKBR"
      },
      "outputs": [],
      "source": [
        "X = np.load('preprocessed_data/feature_vectors.npy', allow_pickle=True)\n",
        "y = np.load('preprocessed_data/target_vectors.npy', allow_pickle=True)"
      ]
    },
    {
      "cell_type": "code",
      "execution_count": 17,
      "metadata": {
        "colab": {
          "base_uri": "https://localhost:8080/"
        },
        "id": "pbMR68IQkytL",
        "outputId": "097001c3-9b7b-4afb-d0a8-4366d0126064"
      },
      "outputs": [
        {
          "name": "stdout",
          "output_type": "stream",
          "text": [
            "(1591878,)\n",
            "(1591878,)\n"
          ]
        }
      ],
      "source": [
        "print(X.shape)\n",
        "print(y.shape)"
      ]
    },
    {
      "cell_type": "code",
      "execution_count": 18,
      "metadata": {
        "colab": {
          "base_uri": "https://localhost:8080/"
        },
        "id": "RrTDs_Vjj-_L",
        "outputId": "a6b1085d-7300-40b6-9460-57d670990a5f"
      },
      "outputs": [
        {
          "name": "stdout",
          "output_type": "stream",
          "text": [
            "Train set size: 1432690\n",
            "Test set size 79594\n",
            "Validation set size 79594\n"
          ]
        }
      ],
      "source": [
        "X_train_split, X_test_split, y_train, y_test = train_test_split(X, y, train_size=0.9, random_state=13)\n",
        "X_test_split, X_val_split, y_test, y_val = train_test_split(X_test_split, y_test, train_size=0.5, random_state=13)\n",
        "\n",
        "print(\"Train set size:\", X_train_split.shape[0])\n",
        "print(\"Test set size\", X_test_split.shape[0])\n",
        "print(\"Validation set size\", X_val_split.shape[0])"
      ]
    },
    {
      "cell_type": "code",
      "execution_count": 19,
      "metadata": {
        "colab": {
          "base_uri": "https://localhost:8080/"
        },
        "id": "omd6BsUikJq7",
        "outputId": "f185d237-4e52-45cc-c8d3-771316f878fb"
      },
      "outputs": [
        {
          "name": "stdout",
          "output_type": "stream",
          "text": [
            "Vocabulary size:  248716\n"
          ]
        }
      ],
      "source": [
        "# Initiate Keras tokenizer and vectorizer\n",
        "tokenizer = Tokenizer()\n",
        "tokenizer.fit_on_texts(X_train_split)\n",
        "\n",
        "# Transfrom X into vectorized values\n",
        "X_train_transformed = tokenizer.texts_to_sequences(X_train_split)\n",
        "X_val_transformed = tokenizer.texts_to_sequences(X_val_split)\n",
        "X_test_transformed = tokenizer.texts_to_sequences(X_test_split)\n",
        "\n",
        "# View vocabulary size\n",
        "print(\"Vocabulary size: \", len(tokenizer.word_index))"
      ]
    },
    {
      "cell_type": "code",
      "execution_count": 20,
      "metadata": {
        "colab": {
          "base_uri": "https://localhost:8080/",
          "height": 35
        },
        "id": "5FB5dUibGuWw",
        "outputId": "721ca462-3b94-4c8c-d42a-4700746c3e6a"
      },
      "outputs": [
        {
          "data": {
            "text/plain": [
              "'allowing people vote freely may not like truely abhor part freedom'"
            ]
          },
          "execution_count": 20,
          "metadata": {},
          "output_type": "execute_result"
        }
      ],
      "source": [
        "X_train_split[0]"
      ]
    },
    {
      "cell_type": "code",
      "execution_count": 21,
      "metadata": {
        "colab": {
          "base_uri": "https://localhost:8080/"
        },
        "id": "ZA8p1n-AGWvd",
        "outputId": "49b5b0ee-38f2-4ea0-b1cd-af27d0e946ab"
      },
      "outputs": [
        {
          "data": {
            "text/plain": [
              "[8597, 62, 620, 14495, 223, 1, 7, 7310, 34546, 377, 2360]"
            ]
          },
          "execution_count": 21,
          "metadata": {},
          "output_type": "execute_result"
        }
      ],
      "source": [
        "X_train_transformed[0]"
      ]
    },
    {
      "cell_type": "code",
      "execution_count": 22,
      "metadata": {
        "id": "brnWyniUGjTK"
      },
      "outputs": [],
      "source": [
        "# Initiate the label encoder to convert target data into (0, 1) instead of (0, 4)\n",
        "label_encoder = LabelEncoder()\n",
        "\n",
        "# Transform y into numerical values (0, 1)\n",
        "y_train = label_encoder.fit_transform(y_train)\n",
        "y_val = label_encoder.transform(y_val)\n",
        "y_test = label_encoder.transform(y_test)"
      ]
    },
    {
      "cell_type": "markdown",
      "metadata": {
        "id": "RbHTf2w7Nit7"
      },
      "source": [
        "### Padding and Truncation\n",
        "Length of the word vectors are unenven."
      ]
    },
    {
      "cell_type": "code",
      "execution_count": 23,
      "metadata": {
        "colab": {
          "base_uri": "https://localhost:8080/"
        },
        "id": "pnYg_O9mR2ur",
        "outputId": "60468c29-78af-46b2-b9a4-2e115d9523de"
      },
      "outputs": [
        {
          "name": "stdout",
          "output_type": "stream",
          "text": [
            "Statistics summary of vector lengths in X_transformed: \n"
          ]
        },
        {
          "data": {
            "text/plain": [
              "count    1591878.00\n",
              "mean           7.24\n",
              "std            3.93\n",
              "min            1.00\n",
              "25%            4.00\n",
              "50%            7.00\n",
              "75%           10.00\n",
              "90%           13.00\n",
              "97.5%         15.00\n",
              "max           50.00\n",
              "dtype: object"
            ]
          },
          "execution_count": 23,
          "metadata": {},
          "output_type": "execute_result"
        }
      ],
      "source": [
        "print('Statistics summary of vector lengths in X_transformed: ')\n",
        "pd.Series([len(text.split()) for text in X]).describe(percentiles=[.25, .5, .75, .9, .975]).apply(\"{0:.2f}\".format)"
      ]
    },
    {
      "cell_type": "code",
      "execution_count": 24,
      "metadata": {
        "colab": {
          "base_uri": "https://localhost:8080/"
        },
        "id": "-fE10aQ3TU1P",
        "outputId": "d156914b-0e59-463f-c2d2-383c234fe19e"
      },
      "outputs": [
        {
          "name": "stdout",
          "output_type": "stream",
          "text": [
            "Statistics summary of vector lengths in X_transformed: \n"
          ]
        },
        {
          "data": {
            "text/plain": [
              "count    1432690.00\n",
              "mean          25.00\n",
              "std            0.00\n",
              "min           25.00\n",
              "25%           25.00\n",
              "50%           25.00\n",
              "75%           25.00\n",
              "max           25.00\n",
              "dtype: object"
            ]
          },
          "execution_count": 24,
          "metadata": {},
          "output_type": "execute_result"
        }
      ],
      "source": [
        "# Perform padding on X_transformed\n",
        "X_train_transformed = pad_sequences(X_train_transformed, maxlen=25, padding='post', truncating='post')\n",
        "X_val_transformed = pad_sequences(X_val_transformed, maxlen=25, padding='post', truncating='post')\n",
        "X_test_transformed = pad_sequences(X_test_transformed, maxlen=25, padding='post', truncating='post')\n",
        "\n",
        "print('Statistics summary of vector lengths in X_transformed: ')\n",
        "pd.Series([len(text) for text in X_train_transformed]).describe().apply(\"{0:.2f}\".format)"
      ]
    },
    {
      "cell_type": "code",
      "execution_count": 25,
      "metadata": {
        "id": "6y3Rs5nmTa8i"
      },
      "outputs": [],
      "source": [
        "train_set = TensorDataset(torch.tensor(X_train_transformed), torch.tensor(y_train).reshape(-1, 1))\n",
        "val_set = TensorDataset(torch.tensor(X_val_transformed), torch.tensor(y_val).reshape(-1, 1))\n",
        "test_set = TensorDataset(torch.tensor(X_test_transformed), torch.tensor(y_test).reshape(-1, 1))\n",
        "\n",
        "train_loader = DataLoader(train_set, batch_size=128, shuffle=True)\n",
        "val_loader = DataLoader(val_set, batch_size=128)\n",
        "test_loader = DataLoader(test_set, batch_size=128)"
      ]
    },
    {
      "cell_type": "markdown",
      "metadata": {
        "id": "13UfeMqdTzrg"
      },
      "source": [
        "### FastText word embeddings\n",
        "In order to load vectors from a file, we use `KeyedVectors` API of Gensim. The word we want to lookup is the key, and the numerical representation of the word is the corresponding vectors.\n"
      ]
    },
    {
      "cell_type": "code",
      "execution_count": 13,
      "metadata": {
        "id": "Kd0dkUJaTkbh"
      },
      "outputs": [
        {
          "ename": "ImportError",
          "evalue": "cannot import name 'triu' from 'scipy.linalg' (/opt/miniconda3/envs/ml/lib/python3.11/site-packages/scipy/linalg/__init__.py)",
          "output_type": "error",
          "traceback": [
            "\u001b[0;31m---------------------------------------------------------------------------\u001b[0m",
            "\u001b[0;31mImportError\u001b[0m                               Traceback (most recent call last)",
            "Cell \u001b[0;32mIn[13], line 2\u001b[0m\n\u001b[1;32m      1\u001b[0m \u001b[38;5;66;03m# gensim FastText word embeddings\u001b[39;00m\n\u001b[0;32m----> 2\u001b[0m \u001b[38;5;28;01mfrom\u001b[39;00m \u001b[38;5;21;01mgensim\u001b[39;00m\u001b[38;5;21;01m.\u001b[39;00m\u001b[38;5;21;01mmodels\u001b[39;00m \u001b[38;5;28;01mimport\u001b[39;00m KeyedVectors\n\u001b[1;32m      3\u001b[0m kv_model \u001b[38;5;241m=\u001b[39m KeyedVectors\u001b[38;5;241m.\u001b[39mload_word2vec_format(\u001b[38;5;124m'\u001b[39m\u001b[38;5;124mcrawl-300d-2M.vec\u001b[39m\u001b[38;5;124m'\u001b[39m)\n",
            "File \u001b[0;32m/opt/miniconda3/envs/ml/lib/python3.11/site-packages/gensim/__init__.py:11\u001b[0m\n\u001b[1;32m      7\u001b[0m __version__ \u001b[38;5;241m=\u001b[39m \u001b[38;5;124m'\u001b[39m\u001b[38;5;124m4.3.2\u001b[39m\u001b[38;5;124m'\u001b[39m\n\u001b[1;32m      9\u001b[0m \u001b[38;5;28;01mimport\u001b[39;00m \u001b[38;5;21;01mlogging\u001b[39;00m\n\u001b[0;32m---> 11\u001b[0m \u001b[38;5;28;01mfrom\u001b[39;00m \u001b[38;5;21;01mgensim\u001b[39;00m \u001b[38;5;28;01mimport\u001b[39;00m parsing, corpora, matutils, interfaces, models, similarities, utils  \u001b[38;5;66;03m# noqa:F401\u001b[39;00m\n\u001b[1;32m     14\u001b[0m logger \u001b[38;5;241m=\u001b[39m logging\u001b[38;5;241m.\u001b[39mgetLogger(\u001b[38;5;124m'\u001b[39m\u001b[38;5;124mgensim\u001b[39m\u001b[38;5;124m'\u001b[39m)\n\u001b[1;32m     15\u001b[0m \u001b[38;5;28;01mif\u001b[39;00m \u001b[38;5;129;01mnot\u001b[39;00m logger\u001b[38;5;241m.\u001b[39mhandlers:  \u001b[38;5;66;03m# To ensure reload() doesn't add another one\u001b[39;00m\n",
            "File \u001b[0;32m/opt/miniconda3/envs/ml/lib/python3.11/site-packages/gensim/corpora/__init__.py:6\u001b[0m\n\u001b[1;32m      1\u001b[0m \u001b[38;5;124;03m\"\"\"\u001b[39;00m\n\u001b[1;32m      2\u001b[0m \u001b[38;5;124;03mThis package contains implementations of various streaming corpus I/O format.\u001b[39;00m\n\u001b[1;32m      3\u001b[0m \u001b[38;5;124;03m\"\"\"\u001b[39;00m\n\u001b[1;32m      5\u001b[0m \u001b[38;5;66;03m# bring corpus classes directly into package namespace, to save some typing\u001b[39;00m\n\u001b[0;32m----> 6\u001b[0m \u001b[38;5;28;01mfrom\u001b[39;00m \u001b[38;5;21;01m.\u001b[39;00m\u001b[38;5;21;01mindexedcorpus\u001b[39;00m \u001b[38;5;28;01mimport\u001b[39;00m IndexedCorpus  \u001b[38;5;66;03m# noqa:F401 must appear before the other classes\u001b[39;00m\n\u001b[1;32m      8\u001b[0m \u001b[38;5;28;01mfrom\u001b[39;00m \u001b[38;5;21;01m.\u001b[39;00m\u001b[38;5;21;01mmmcorpus\u001b[39;00m \u001b[38;5;28;01mimport\u001b[39;00m MmCorpus  \u001b[38;5;66;03m# noqa:F401\u001b[39;00m\n\u001b[1;32m      9\u001b[0m \u001b[38;5;28;01mfrom\u001b[39;00m \u001b[38;5;21;01m.\u001b[39;00m\u001b[38;5;21;01mbleicorpus\u001b[39;00m \u001b[38;5;28;01mimport\u001b[39;00m BleiCorpus  \u001b[38;5;66;03m# noqa:F401\u001b[39;00m\n",
            "File \u001b[0;32m/opt/miniconda3/envs/ml/lib/python3.11/site-packages/gensim/corpora/indexedcorpus.py:14\u001b[0m\n\u001b[1;32m     10\u001b[0m \u001b[38;5;28;01mimport\u001b[39;00m \u001b[38;5;21;01mlogging\u001b[39;00m\n\u001b[1;32m     12\u001b[0m \u001b[38;5;28;01mimport\u001b[39;00m \u001b[38;5;21;01mnumpy\u001b[39;00m\n\u001b[0;32m---> 14\u001b[0m \u001b[38;5;28;01mfrom\u001b[39;00m \u001b[38;5;21;01mgensim\u001b[39;00m \u001b[38;5;28;01mimport\u001b[39;00m interfaces, utils\n\u001b[1;32m     16\u001b[0m logger \u001b[38;5;241m=\u001b[39m logging\u001b[38;5;241m.\u001b[39mgetLogger(\u001b[38;5;18m__name__\u001b[39m)\n\u001b[1;32m     19\u001b[0m \u001b[38;5;28;01mclass\u001b[39;00m \u001b[38;5;21;01mIndexedCorpus\u001b[39;00m(interfaces\u001b[38;5;241m.\u001b[39mCorpusABC):\n",
            "File \u001b[0;32m/opt/miniconda3/envs/ml/lib/python3.11/site-packages/gensim/interfaces.py:19\u001b[0m\n\u001b[1;32m      7\u001b[0m \u001b[38;5;124;03m\"\"\"Basic interfaces used across the whole Gensim package.\u001b[39;00m\n\u001b[1;32m      8\u001b[0m \n\u001b[1;32m      9\u001b[0m \u001b[38;5;124;03mThese interfaces are used for building corpora, model transformation and similarity queries.\u001b[39;00m\n\u001b[0;32m   (...)\u001b[0m\n\u001b[1;32m     14\u001b[0m \n\u001b[1;32m     15\u001b[0m \u001b[38;5;124;03m\"\"\"\u001b[39;00m\n\u001b[1;32m     17\u001b[0m \u001b[38;5;28;01mimport\u001b[39;00m \u001b[38;5;21;01mlogging\u001b[39;00m\n\u001b[0;32m---> 19\u001b[0m \u001b[38;5;28;01mfrom\u001b[39;00m \u001b[38;5;21;01mgensim\u001b[39;00m \u001b[38;5;28;01mimport\u001b[39;00m utils, matutils\n\u001b[1;32m     22\u001b[0m logger \u001b[38;5;241m=\u001b[39m logging\u001b[38;5;241m.\u001b[39mgetLogger(\u001b[38;5;18m__name__\u001b[39m)\n\u001b[1;32m     25\u001b[0m \u001b[38;5;28;01mclass\u001b[39;00m \u001b[38;5;21;01mCorpusABC\u001b[39;00m(utils\u001b[38;5;241m.\u001b[39mSaveLoad):\n",
            "File \u001b[0;32m/opt/miniconda3/envs/ml/lib/python3.11/site-packages/gensim/matutils.py:20\u001b[0m\n\u001b[1;32m     18\u001b[0m \u001b[38;5;28;01mimport\u001b[39;00m \u001b[38;5;21;01mscipy\u001b[39;00m\u001b[38;5;21;01m.\u001b[39;00m\u001b[38;5;21;01msparse\u001b[39;00m\n\u001b[1;32m     19\u001b[0m \u001b[38;5;28;01mfrom\u001b[39;00m \u001b[38;5;21;01mscipy\u001b[39;00m\u001b[38;5;21;01m.\u001b[39;00m\u001b[38;5;21;01mstats\u001b[39;00m \u001b[38;5;28;01mimport\u001b[39;00m entropy\n\u001b[0;32m---> 20\u001b[0m \u001b[38;5;28;01mfrom\u001b[39;00m \u001b[38;5;21;01mscipy\u001b[39;00m\u001b[38;5;21;01m.\u001b[39;00m\u001b[38;5;21;01mlinalg\u001b[39;00m \u001b[38;5;28;01mimport\u001b[39;00m get_blas_funcs, triu\n\u001b[1;32m     21\u001b[0m \u001b[38;5;28;01mfrom\u001b[39;00m \u001b[38;5;21;01mscipy\u001b[39;00m\u001b[38;5;21;01m.\u001b[39;00m\u001b[38;5;21;01mlinalg\u001b[39;00m\u001b[38;5;21;01m.\u001b[39;00m\u001b[38;5;21;01mlapack\u001b[39;00m \u001b[38;5;28;01mimport\u001b[39;00m get_lapack_funcs\n\u001b[1;32m     22\u001b[0m \u001b[38;5;28;01mfrom\u001b[39;00m \u001b[38;5;21;01mscipy\u001b[39;00m\u001b[38;5;21;01m.\u001b[39;00m\u001b[38;5;21;01mspecial\u001b[39;00m \u001b[38;5;28;01mimport\u001b[39;00m psi  \u001b[38;5;66;03m# gamma function utils\u001b[39;00m\n",
            "\u001b[0;31mImportError\u001b[0m: cannot import name 'triu' from 'scipy.linalg' (/opt/miniconda3/envs/ml/lib/python3.11/site-packages/scipy/linalg/__init__.py)"
          ]
        }
      ],
      "source": [
        "# gensim FastText word embeddings\n",
        "from gensim.models import KeyedVectors\n",
        "kv_model = KeyedVectors.load_word2vec_format('crawl-300d-2M.vec')"
      ]
    },
    {
      "cell_type": "markdown",
      "metadata": {
        "id": "HRopraT1aKDq"
      },
      "source": [
        "- Let us build the embedding word vectors from our built vocabulary.\n",
        "- We loop through each item in our vocabulary to see if our embedding model has the embedding vectors for it.\n",
        "- If yes, we may load it into our embeddings matrix; otherwise we leave it empty (fill with zeroes)"
      ]
    },
    {
      "cell_type": "code",
      "execution_count": null,
      "metadata": {
        "id": "V6SB1W_HTkZL"
      },
      "outputs": [],
      "source": [
        "VOCAB_SIZE = len(tokenizer.word_index) + 1\n",
        "EMBEDDINGS_DIM = 300"
      ]
    },
    {
      "cell_type": "code",
      "execution_count": null,
      "metadata": {
        "colab": {
          "base_uri": "https://localhost:8080/"
        },
        "id": "Tdwr3niOhQ98",
        "outputId": "29431656-767e-48b0-f40d-416fba0cdf89"
      },
      "outputs": [
        {
          "data": {
            "text/plain": [
              "True"
            ]
          },
          "execution_count": 24,
          "metadata": {},
          "output_type": "execute_result"
        }
      ],
      "source": [
        "\"apple\" in kv_model"
      ]
    },
    {
      "cell_type": "code",
      "execution_count": null,
      "metadata": {
        "id": "zJRs2ibITkXA"
      },
      "outputs": [],
      "source": [
        "# Initialise an empty matrix as an embeddings container\n",
        "embedding_matrix = np.zeros((VOCAB_SIZE, EMBEDDINGS_DIM))\n",
        "\n",
        "# Loading GloVe weights into our embedding matrix\n",
        "for word, index in tokenizer.word_index.items():\n",
        "  if word in kv_model:\n",
        "    embedding_matrix[index] = kv_model[word].copy()\n",
        "\n",
        "embedding_matrix = torch.FloatTensor(embedding_matrix)\n"
      ]
    },
    {
      "cell_type": "code",
      "execution_count": null,
      "metadata": {
        "id": "LayQP7lRNX4I"
      },
      "outputs": [],
      "source": [
        "embedding = nn.Embedding.from_pretrained(embedding_matrix)"
      ]
    },
    {
      "cell_type": "code",
      "execution_count": null,
      "metadata": {
        "colab": {
          "base_uri": "https://localhost:8080/"
        },
        "id": "_HG-QtwqNeKe",
        "outputId": "a11ea0d0-6f24-4f64-fd7a-26d04dd3c2a0"
      },
      "outputs": [
        {
          "data": {
            "text/plain": [
              "torch.Size([1, 300])"
            ]
          },
          "execution_count": 55,
          "metadata": {},
          "output_type": "execute_result"
        }
      ],
      "source": [
        "input = torch.tensor([1])\n",
        "embedding(input).shape"
      ]
    },
    {
      "cell_type": "code",
      "execution_count": null,
      "metadata": {
        "colab": {
          "base_uri": "https://localhost:8080/"
        },
        "id": "OFLK3d3zOOCs",
        "outputId": "64e254e2-00e9-4938-8390-fd63423a5faf"
      },
      "outputs": [
        {
          "data": {
            "text/plain": [
              "torch.Size([2, 3])"
            ]
          },
          "execution_count": 58,
          "metadata": {},
          "output_type": "execute_result"
        }
      ],
      "source": [
        "input = torch.tensor([[1,2,3], [4,5,6]])\n",
        "input.shape"
      ]
    },
    {
      "cell_type": "code",
      "execution_count": null,
      "metadata": {
        "colab": {
          "base_uri": "https://localhost:8080/"
        },
        "id": "vzJ-0s4DOZCw",
        "outputId": "8188ea05-11af-4952-f891-b3a2076ba7a8"
      },
      "outputs": [
        {
          "data": {
            "text/plain": [
              "torch.Size([2, 3, 300])"
            ]
          },
          "execution_count": 59,
          "metadata": {},
          "output_type": "execute_result"
        }
      ],
      "source": [
        "embedding(input).shape"
      ]
    },
    {
      "cell_type": "code",
      "execution_count": null,
      "metadata": {
        "colab": {
          "base_uri": "https://localhost:8080/"
        },
        "id": "VFm0QQXpTkUn",
        "outputId": "f8691a93-cc55-4fbc-c5b2-de961acf27b5"
      },
      "outputs": [
        {
          "data": {
            "text/plain": [
              "torch.Size([248717, 300])"
            ]
          },
          "execution_count": 51,
          "metadata": {},
          "output_type": "execute_result"
        }
      ],
      "source": [
        "embedding_matrix.shape"
      ]
    },
    {
      "cell_type": "code",
      "execution_count": null,
      "metadata": {
        "colab": {
          "base_uri": "https://localhost:8080/"
        },
        "id": "9xC8CU5OiI3W",
        "outputId": "b2def3fc-1366-43e4-c56f-b4886b417e35"
      },
      "outputs": [
        {
          "name": "stdout",
          "output_type": "stream",
          "text": [
            "cuda\n"
          ]
        }
      ],
      "source": [
        "device = torch.device(\"cuda\" if torch.cuda.is_available() else \"cpu\")\n",
        "print(device)"
      ]
    },
    {
      "cell_type": "code",
      "execution_count": null,
      "metadata": {
        "id": "CBj-f9uViI1J"
      },
      "outputs": [],
      "source": [
        "torch.manual_seed(13)\n",
        "if torch.cuda.is_available():\n",
        "  torch.cuda.manual_seed_all(13)\n",
        "# Ensure cudnn uses deterministic algorithms only\n",
        "torch.backends.cudnn.deterministic = True\n",
        "# Disable cudnn benchmark mode. This ensures that cudnn does not look for the best\n",
        "# convolution algorithm for the hardware.\n",
        "torch.backends.cudnn.benchmark = False"
      ]
    },
    {
      "cell_type": "code",
      "execution_count": null,
      "metadata": {
        "id": "V1tLyG2b8X8U"
      },
      "outputs": [],
      "source": [
        "def train_loop(dataloader, model, loss_fn, optimizer):\n",
        "  size = len(dataloader.dataset)\n",
        "  total_train_loss = 0.0\n",
        "  total_train_acc = 0.0\n",
        "  model.train()\n",
        "\n",
        "  for batch, (X, y) in enumerate(dataloader):\n",
        "    if torch.cuda.is_available():\n",
        "      X, y = X.to(device), y.to(device)\n",
        "    pred = model(X)\n",
        "    loss = loss_fn(pred, y.float())\n",
        "    total_train_loss += loss.item()\n",
        "    total_train_acc += ((pred > 0.5) == y).sum()\n",
        "\n",
        "    loss.backward()\n",
        "    optimizer.step()\n",
        "    optimizer.zero_grad()\n",
        "\n",
        "    if batch%1000 == 0:\n",
        "      loss, current = loss.item(), batch * BATCH_SIZE + len(X)\n",
        "      print(f\"loss: {loss:>7f} [{current:>5d}/{size:>5d}]\")\n",
        "  total_train_loss /= len(dataloader)\n",
        "  total_train_acc /= size\n",
        "  return total_train_loss, total_train_acc"
      ]
    },
    {
      "cell_type": "code",
      "execution_count": null,
      "metadata": {
        "id": "3FNFniVH8X6A"
      },
      "outputs": [],
      "source": [
        "def test_loop(dataloader, model, loss_fn):\n",
        "  model.eval()\n",
        "  size = len(dataloader.dataset)\n",
        "  num_batches = len(dataloader)\n",
        "  total_test_loss, total_test_acc = 0.0, 0.0\n",
        "\n",
        "  with torch.no_grad():\n",
        "    for X, y in dataloader:\n",
        "      if torch.cuda.is_available():\n",
        "        X, y = X.to(device), y.to(device)\n",
        "      pred = model(X)\n",
        "      total_test_loss += loss_fn(pred, y.float()).item()\n",
        "      total_test_acc += ((pred > 0.5) == y).sum()\n",
        "\n",
        "  total_test_loss /= num_batches\n",
        "  total_test_acc /= size\n",
        "  print(f\"Test Error:\\n Accuracy: {(100*total_test_acc):>0.5f}%, Avg. loss: {total_test_loss:>8f}\\n\")\n",
        "  return total_test_loss, total_test_acc"
      ]
    },
    {
      "cell_type": "markdown",
      "metadata": {
        "id": "6v9ozUckj3YC"
      },
      "source": [
        "### 2. Feed Forward Neural Network"
      ]
    },
    {
      "cell_type": "code",
      "execution_count": null,
      "metadata": {
        "id": "hBetCBtTvJjO"
      },
      "outputs": [],
      "source": [
        "# The output of the model [0, 1]\n",
        "OUTPUT_SIZE = 1\n",
        "# The size of the hidden layers\n",
        "HIDDEN_SIZE = 512\n",
        "# Batch Size\n",
        "BATCH_SIZE = 128\n",
        "# Number of epochs\n",
        "NUM_EPOCHS = 50"
      ]
    },
    {
      "cell_type": "markdown",
      "metadata": {
        "id": "PAs6zSoSwSFE"
      },
      "source": [
        "### Building the Neural Network\n",
        "- 2 layers (512 and 256 hidden nodes)\n",
        "- 1 node in the output layer.\n",
        "- 1 embedding layer to transform our input sequence into word embeddings.\n",
        "- Since the word embeddings will create a vector for each token, we need a way to aggregate vectors inot one single vector (**POOLING**).\n",
        "  - There are many ways to do this such as taking the mean of the vectors, taking sum etc.\n",
        "  - But, here we are summing them up in order to take care of OOV words.\n",
        "- We are also applying *dropout* in order to regularize the model, ensuring that there is a lower chance of overfitting.\n",
        "  - The main idea is to randomly dropout a percentage of all connections between layers, therefore the model only learns to generalize features but not to replicate them."
      ]
    },
    {
      "cell_type": "code",
      "execution_count": null,
      "metadata": {
        "colab": {
          "base_uri": "https://localhost:8080/"
        },
        "id": "C0AF0tqliIwb",
        "outputId": "db99d210-ff55-4214-a2ff-adebdf4e099c"
      },
      "outputs": [
        {
          "name": "stdout",
          "output_type": "stream",
          "text": [
            "FeedForward(\n",
            "  (embedding): Embedding(248717, 300)\n",
            "  (linear_relu_stack): Sequential(\n",
            "    (0): Linear(in_features=300, out_features=512, bias=True)\n",
            "    (1): ReLU()\n",
            "    (2): Dropout(p=0.5, inplace=False)\n",
            "    (3): Linear(in_features=512, out_features=256, bias=True)\n",
            "    (4): ReLU()\n",
            "    (5): Linear(in_features=256, out_features=1, bias=False)\n",
            "    (6): Sigmoid()\n",
            "  )\n",
            ")\n"
          ]
        }
      ],
      "source": [
        "class FeedForward(nn.Module):\n",
        "  def __init__(self, output_size, embedding_dim, hidden_size, dropout=0.5):\n",
        "    super().__init__()\n",
        "    self.embedding = nn.Embedding.from_pretrained(embedding_matrix, freeze=True)\n",
        "    self.linear_relu_stack = nn.Sequential(\n",
        "        nn.Linear(in_features = embedding_dim, out_features = hidden_size),\n",
        "        nn.ReLU(),\n",
        "        nn.Dropout(p = dropout),\n",
        "        nn.Linear(in_features = hidden_size, out_features=hidden_size//2),\n",
        "        nn.ReLU(),\n",
        "        nn.Linear(in_features=hidden_size//2, out_features = output_size, bias = False),\n",
        "        nn.Sigmoid()\n",
        "    )\n",
        "  def forward(self, input):\n",
        "    emb = self.embedding(input)\n",
        "    emb = torch.sum(emb, dim = 1)\n",
        "    out = self.linear_relu_stack(emb)\n",
        "    return out\n",
        "\n",
        "ff_model = FeedForward(OUTPUT_SIZE, EMBEDDINGS_DIM, HIDDEN_SIZE, 0.5).to(device)\n",
        "print(ff_model)"
      ]
    },
    {
      "cell_type": "code",
      "execution_count": null,
      "metadata": {
        "colab": {
          "base_uri": "https://localhost:8080/"
        },
        "id": "lR6HNQTgxjyc",
        "outputId": "1604624a-e770-4da9-fb16-886588054d71"
      },
      "outputs": [
        {
          "name": "stdout",
          "output_type": "stream",
          "text": [
            "Epoch 1\n",
            "---------------------------\n",
            "loss: 0.695539 [  128/1432690]\n",
            "loss: 0.465368 [128128/1432690]\n",
            "loss: 0.531527 [256128/1432690]\n",
            "loss: 0.509258 [384128/1432690]\n",
            "loss: 0.514376 [512128/1432690]\n",
            "loss: 0.478203 [640128/1432690]\n",
            "loss: 0.439991 [768128/1432690]\n",
            "loss: 0.507621 [896128/1432690]\n",
            "loss: 0.493957 [1024128/1432690]\n",
            "loss: 0.478954 [1152128/1432690]\n",
            "loss: 0.483383 [1280128/1432690]\n",
            "loss: 0.506860 [1408128/1432690]\n",
            "Test Error:\n",
            " Accuracy: 78.75343%, Avg. loss: 0.453631\n",
            "\n",
            "Epoch 2\n",
            "---------------------------\n",
            "loss: 0.464294 [  128/1432690]\n",
            "loss: 0.353353 [128128/1432690]\n",
            "loss: 0.413997 [256128/1432690]\n",
            "loss: 0.554796 [384128/1432690]\n",
            "loss: 0.428406 [512128/1432690]\n",
            "loss: 0.543229 [640128/1432690]\n",
            "loss: 0.446181 [768128/1432690]\n",
            "loss: 0.398864 [896128/1432690]\n",
            "loss: 0.421414 [1024128/1432690]\n",
            "loss: 0.439380 [1152128/1432690]\n",
            "loss: 0.499128 [1280128/1432690]\n",
            "loss: 0.412104 [1408128/1432690]\n",
            "Test Error:\n",
            " Accuracy: 79.17556%, Avg. loss: 0.446149\n",
            "\n",
            "Epoch 3\n",
            "---------------------------\n",
            "loss: 0.464290 [  128/1432690]\n",
            "loss: 0.415076 [128128/1432690]\n",
            "loss: 0.442867 [256128/1432690]\n",
            "loss: 0.446912 [384128/1432690]\n",
            "loss: 0.371901 [512128/1432690]\n",
            "loss: 0.487381 [640128/1432690]\n",
            "loss: 0.429138 [768128/1432690]\n",
            "loss: 0.494426 [896128/1432690]\n",
            "loss: 0.512620 [1024128/1432690]\n",
            "loss: 0.428047 [1152128/1432690]\n",
            "loss: 0.448847 [1280128/1432690]\n",
            "loss: 0.534600 [1408128/1432690]\n",
            "Test Error:\n",
            " Accuracy: 79.54871%, Avg. loss: 0.440098\n",
            "\n",
            "Epoch 4\n",
            "---------------------------\n",
            "loss: 0.422330 [  128/1432690]\n",
            "loss: 0.479862 [128128/1432690]\n",
            "loss: 0.485555 [256128/1432690]\n",
            "loss: 0.379944 [384128/1432690]\n",
            "loss: 0.345216 [512128/1432690]\n",
            "loss: 0.387008 [640128/1432690]\n",
            "loss: 0.389024 [768128/1432690]\n",
            "loss: 0.390220 [896128/1432690]\n",
            "loss: 0.589632 [1024128/1432690]\n",
            "loss: 0.464679 [1152128/1432690]\n",
            "loss: 0.481683 [1280128/1432690]\n",
            "loss: 0.404271 [1408128/1432690]\n",
            "Test Error:\n",
            " Accuracy: 79.75349%, Avg. loss: 0.438023\n",
            "\n",
            "Epoch 5\n",
            "---------------------------\n",
            "loss: 0.458563 [  128/1432690]\n",
            "loss: 0.484884 [128128/1432690]\n",
            "loss: 0.448475 [256128/1432690]\n",
            "loss: 0.406962 [384128/1432690]\n",
            "loss: 0.439371 [512128/1432690]\n",
            "loss: 0.466163 [640128/1432690]\n",
            "loss: 0.395641 [768128/1432690]\n",
            "loss: 0.357621 [896128/1432690]\n",
            "loss: 0.434574 [1024128/1432690]\n",
            "loss: 0.524862 [1152128/1432690]\n",
            "loss: 0.366106 [1280128/1432690]\n",
            "loss: 0.437827 [1408128/1432690]\n",
            "Test Error:\n",
            " Accuracy: 79.67812%, Avg. loss: 0.434961\n",
            "\n",
            "Epoch 6\n",
            "---------------------------\n",
            "loss: 0.492483 [  128/1432690]\n",
            "loss: 0.520282 [128128/1432690]\n",
            "loss: 0.412445 [256128/1432690]\n",
            "loss: 0.422437 [384128/1432690]\n",
            "loss: 0.385746 [512128/1432690]\n",
            "loss: 0.503722 [640128/1432690]\n",
            "loss: 0.464002 [768128/1432690]\n",
            "loss: 0.462638 [896128/1432690]\n",
            "loss: 0.379737 [1024128/1432690]\n",
            "loss: 0.411329 [1152128/1432690]\n",
            "loss: 0.427377 [1280128/1432690]\n",
            "loss: 0.507902 [1408128/1432690]\n",
            "Test Error:\n",
            " Accuracy: 79.91055%, Avg. loss: 0.434838\n",
            "\n",
            "Epoch 7\n",
            "---------------------------\n",
            "loss: 0.410506 [  128/1432690]\n",
            "loss: 0.295419 [128128/1432690]\n",
            "loss: 0.358314 [256128/1432690]\n",
            "loss: 0.462236 [384128/1432690]\n",
            "loss: 0.455236 [512128/1432690]\n",
            "loss: 0.449874 [640128/1432690]\n",
            "loss: 0.410101 [768128/1432690]\n",
            "loss: 0.444100 [896128/1432690]\n",
            "loss: 0.453573 [1024128/1432690]\n",
            "loss: 0.450084 [1152128/1432690]\n",
            "loss: 0.551468 [1280128/1432690]\n",
            "loss: 0.443227 [1408128/1432690]\n",
            "Test Error:\n",
            " Accuracy: 79.99346%, Avg. loss: 0.432504\n",
            "\n",
            "Epoch 8\n",
            "---------------------------\n",
            "loss: 0.372412 [  128/1432690]\n",
            "loss: 0.500242 [128128/1432690]\n",
            "loss: 0.422984 [256128/1432690]\n",
            "loss: 0.399063 [384128/1432690]\n",
            "loss: 0.383962 [512128/1432690]\n",
            "loss: 0.343278 [640128/1432690]\n",
            "loss: 0.419410 [768128/1432690]\n",
            "loss: 0.445010 [896128/1432690]\n",
            "loss: 0.490786 [1024128/1432690]\n",
            "loss: 0.423270 [1152128/1432690]\n",
            "loss: 0.426342 [1280128/1432690]\n",
            "loss: 0.394039 [1408128/1432690]\n",
            "Test Error:\n",
            " Accuracy: 79.94447%, Avg. loss: 0.431497\n",
            "\n",
            "Epoch 9\n",
            "---------------------------\n",
            "loss: 0.368003 [  128/1432690]\n",
            "loss: 0.450462 [128128/1432690]\n",
            "loss: 0.410915 [256128/1432690]\n",
            "loss: 0.340699 [384128/1432690]\n",
            "loss: 0.390300 [512128/1432690]\n",
            "loss: 0.387558 [640128/1432690]\n",
            "loss: 0.408049 [768128/1432690]\n",
            "loss: 0.510496 [896128/1432690]\n",
            "loss: 0.411578 [1024128/1432690]\n",
            "loss: 0.455106 [1152128/1432690]\n",
            "loss: 0.466020 [1280128/1432690]\n",
            "loss: 0.454619 [1408128/1432690]\n",
            "Test Error:\n",
            " Accuracy: 79.97713%, Avg. loss: 0.430666\n",
            "\n",
            "Epoch 10\n",
            "---------------------------\n",
            "loss: 0.359237 [  128/1432690]\n",
            "loss: 0.463733 [128128/1432690]\n",
            "loss: 0.485489 [256128/1432690]\n",
            "loss: 0.505933 [384128/1432690]\n",
            "loss: 0.444957 [512128/1432690]\n",
            "loss: 0.368835 [640128/1432690]\n",
            "loss: 0.401250 [768128/1432690]\n",
            "loss: 0.539747 [896128/1432690]\n",
            "loss: 0.468528 [1024128/1432690]\n",
            "loss: 0.459042 [1152128/1432690]\n",
            "loss: 0.479817 [1280128/1432690]\n",
            "loss: 0.443987 [1408128/1432690]\n",
            "Test Error:\n",
            " Accuracy: 79.99095%, Avg. loss: 0.430749\n",
            "\n",
            "Done\n"
          ]
        }
      ],
      "source": [
        "loss_fn = nn.BCELoss()\n",
        "optimizer = torch.optim.Adam(ff_model.parameters(), lr = 1e-4, weight_decay=1e-7)\n",
        "epochs = 10\n",
        "train_loss_arr, train_acc_arr = [], []\n",
        "val_loss_arr, val_acc_arr = [], []\n",
        "\n",
        "for t in range(epochs):\n",
        "  print(f\"Epoch {t+1}\\n---------------------------\")\n",
        "  train_loss, train_acc = train_loop(train_loader, ff_model, loss_fn, optimizer)\n",
        "  val_loss, val_acc = test_loop(val_loader, ff_model, loss_fn)\n",
        "  train_loss_arr.append(train_loss)\n",
        "  train_acc_arr.append(train_acc)\n",
        "  val_loss_arr.append(val_loss)\n",
        "  val_acc_arr.append(val_acc)\n",
        "print(\"Done\")\n"
      ]
    },
    {
      "cell_type": "code",
      "execution_count": null,
      "metadata": {
        "id": "R_aiXCPN3n2F"
      },
      "outputs": [],
      "source": [
        "train_acc_arr = [x.item() for x in train_acc_arr]\n",
        "val_acc_arr = [x.item() for x in val_acc_arr]"
      ]
    },
    {
      "cell_type": "code",
      "execution_count": null,
      "metadata": {
        "colab": {
          "base_uri": "https://localhost:8080/",
          "height": 468
        },
        "id": "x9uleRBA21Kj",
        "outputId": "b7ea3cdc-d90d-4273-e964-e018078de8cf"
      },
      "outputs": [
        {
          "data": {
            "image/png": "[encoded data removed]",
            "text/plain": [
              "<Figure size 1500x500 with 2 Axes>"
            ]
          },
          "metadata": {},
          "output_type": "display_data"
        }
      ],
      "source": [
        "fig, ax = plt.subplots(1, 2, figsize=(15, 5))\n",
        "ax[0].plot(train_loss_arr, label='Train Loss')\n",
        "ax[0].plot(val_loss_arr, label='Validation Loss')\n",
        "ax[1].plot(train_acc_arr, label='Train Accuracy')\n",
        "ax[1].plot(val_acc_arr, label='Validation Accuracy')\n",
        "ax[0].set_title('Loss')\n",
        "ax[1].set_title('Accuracy')\n",
        "ax[0].legend()\n",
        "ax[1].legend()\n",
        "plt.show()"
      ]
    },
    {
      "cell_type": "markdown",
      "metadata": {
        "id": "zt3wYjtij8bB"
      },
      "source": [
        "## 2. Simple Recurrent Neural Network\n",
        "- RNN utilizes a recurrent structure to \"memorize\" temporarily the previous tokens.\n",
        "- It therefore takes into account a very important factor such as positions of the token and represent the sentence as a whole better.\n",
        "\n",
        "- Instead of processing all the words at once, we would process them on different *timesteps*"
      ]
    },
    {
      "cell_type": "code",
      "execution_count": null,
      "metadata": {
        "id": "GZWvBZ7Huzvk"
      },
      "outputs": [],
      "source": [
        "OUTPUT_SIZE = 1\n",
        "HIDDEN_SIZE = 256\n",
        "NUM_LAYERS = 3\n",
        "BATCH_SIZE = 128\n",
        "NUM_EPOCHS = 30"
      ]
    },
    {
      "cell_type": "code",
      "execution_count": null,
      "metadata": {
        "colab": {
          "base_uri": "https://localhost:8080/"
        },
        "id": "JkJ0_LiTmkcR",
        "outputId": "fb62cccb-b7ce-4188-80f9-8c2371fea807"
      },
      "outputs": [
        {
          "name": "stdout",
          "output_type": "stream",
          "text": [
            "RNNModel(\n",
            "  (embedding): Embedding(248717, 300)\n",
            "  (rnn): RNN(300, 256, num_layers=3, batch_first=True, dropout=0.5, bidirectional=True)\n",
            "  (out_layer): Sequential(\n",
            "    (0): Dropout(p=0.5, inplace=False)\n",
            "    (1): Linear(in_features=512, out_features=1, bias=False)\n",
            "    (2): Sigmoid()\n",
            "  )\n",
            ")\n"
          ]
        }
      ],
      "source": [
        "class RNNModel(nn.Module):\n",
        "  def __init__(self, output_size, embedding_dim, hidden_size, num_layers, dropout=0.5):\n",
        "    super().__init__()\n",
        "    self.embedding = nn.Embedding.from_pretrained(embedding_matrix)\n",
        "    self.rnn = nn.RNN(\n",
        "        input_size = embedding_dim,\n",
        "        hidden_size = hidden_size,\n",
        "        num_layers = num_layers,\n",
        "        nonlinearity = \"relu\",\n",
        "        batch_first = True,\n",
        "        dropout = dropout,\n",
        "        bidirectional = True\n",
        "    )\n",
        "    self.out_layer = nn.Sequential(\n",
        "        nn.Dropout(p=dropout),\n",
        "        nn.Linear(in_features=2*hidden_size, out_features=output_size, bias=False),\n",
        "        nn.Sigmoid()\n",
        "    )\n",
        "\n",
        "  def forward(self, input):\n",
        "    emb = self.embedding(input)\n",
        "    out, h_n = self.rnn(emb)\n",
        "    out = self.out_layer(out[:, -1, :])\n",
        "    return out\n",
        "\n",
        "rnn_model = RNNModel(OUTPUT_SIZE, EMBEDDINGS_DIM, HIDDEN_SIZE, NUM_LAYERS, 0.5).to(device)\n",
        "print(rnn_model)\n",
        "\n"
      ]
    },
    {
      "cell_type": "code",
      "execution_count": null,
      "metadata": {
        "colab": {
          "base_uri": "https://localhost:8080/"
        },
        "id": "Ne-xIKXJ0oF_",
        "outputId": "eb29b490-b549-4bdc-a74a-2a8d0a409700"
      },
      "outputs": [
        {
          "name": "stdout",
          "output_type": "stream",
          "text": [
            "Epoch 1\n",
            "---------------------------\n",
            "loss: 0.693219 [  128/1432690]\n",
            "loss: 0.696741 [128128/1432690]\n",
            "loss: 0.694997 [256128/1432690]\n",
            "loss: 0.695218 [384128/1432690]\n",
            "loss: 0.692022 [512128/1432690]\n",
            "loss: 0.693265 [640128/1432690]\n",
            "loss: 0.693254 [768128/1432690]\n",
            "loss: 0.693761 [896128/1432690]\n",
            "loss: 0.693236 [1024128/1432690]\n",
            "loss: 0.693610 [1152128/1432690]\n",
            "loss: 0.693877 [1280128/1432690]\n",
            "loss: 0.690498 [1408128/1432690]\n",
            "Test Error:\n",
            " Accuracy: 50.01382%, Avg. loss: 0.693164\n",
            "\n",
            "Epoch 2\n",
            "---------------------------\n",
            "loss: 0.690509 [  128/1432690]\n",
            "loss: 0.694097 [128128/1432690]\n",
            "loss: 0.693386 [256128/1432690]\n",
            "loss: 0.691100 [384128/1432690]\n",
            "loss: 0.692900 [512128/1432690]\n",
            "loss: 0.692505 [640128/1432690]\n",
            "loss: 0.693041 [768128/1432690]\n",
            "loss: 0.693996 [896128/1432690]\n",
            "loss: 0.693832 [1024128/1432690]\n",
            "loss: 0.693227 [1152128/1432690]\n",
            "loss: 0.693482 [1280128/1432690]\n",
            "loss: 0.693074 [1408128/1432690]\n",
            "Test Error:\n",
            " Accuracy: 49.98618%, Avg. loss: 0.693155\n",
            "\n",
            "Epoch 3\n",
            "---------------------------\n",
            "loss: 0.693547 [  128/1432690]\n",
            "loss: 0.693855 [128128/1432690]\n",
            "loss: 0.692484 [256128/1432690]\n",
            "loss: 0.693079 [384128/1432690]\n",
            "loss: 0.693630 [512128/1432690]\n",
            "loss: 0.693089 [640128/1432690]\n",
            "loss: 0.693102 [768128/1432690]\n",
            "loss: 0.693601 [896128/1432690]\n",
            "loss: 0.692268 [1024128/1432690]\n",
            "loss: 0.693334 [1152128/1432690]\n",
            "loss: 0.693608 [1280128/1432690]\n",
            "loss: 0.692972 [1408128/1432690]\n",
            "Test Error:\n",
            " Accuracy: 50.01382%, Avg. loss: 0.693154\n",
            "\n",
            "Epoch 4\n",
            "---------------------------\n",
            "loss: 0.693085 [  128/1432690]\n",
            "loss: 0.692931 [128128/1432690]\n",
            "loss: 0.693290 [256128/1432690]\n",
            "loss: 0.692599 [384128/1432690]\n",
            "loss: 0.693008 [512128/1432690]\n",
            "loss: 0.693048 [640128/1432690]\n",
            "loss: 0.693282 [768128/1432690]\n",
            "loss: 0.693454 [896128/1432690]\n",
            "loss: 0.693413 [1024128/1432690]\n",
            "loss: 0.693762 [1152128/1432690]\n",
            "loss: 0.692976 [1280128/1432690]\n",
            "loss: 0.693304 [1408128/1432690]\n",
            "Test Error:\n",
            " Accuracy: 50.01382%, Avg. loss: 0.693147\n",
            "\n",
            "Epoch 5\n",
            "---------------------------\n",
            "loss: 0.693020 [  128/1432690]\n",
            "loss: 0.693666 [128128/1432690]\n",
            "loss: 0.693089 [256128/1432690]\n",
            "loss: 0.693213 [384128/1432690]\n",
            "loss: 0.692688 [512128/1432690]\n",
            "loss: 0.693181 [640128/1432690]\n",
            "loss: 0.693225 [768128/1432690]\n",
            "loss: 0.693570 [896128/1432690]\n",
            "loss: 0.692817 [1024128/1432690]\n",
            "loss: 0.693386 [1152128/1432690]\n",
            "loss: 0.693343 [1280128/1432690]\n",
            "loss: 0.692850 [1408128/1432690]\n",
            "Test Error:\n",
            " Accuracy: 49.98618%, Avg. loss: 0.693148\n",
            "\n",
            "Epoch 6\n",
            "---------------------------\n",
            "loss: 0.692668 [  128/1432690]\n",
            "loss: 0.692941 [128128/1432690]\n",
            "loss: 0.692887 [256128/1432690]\n",
            "loss: 0.693201 [384128/1432690]\n",
            "loss: 0.693423 [512128/1432690]\n",
            "loss: 0.693005 [640128/1432690]\n",
            "loss: 0.692516 [768128/1432690]\n",
            "loss: 0.693293 [896128/1432690]\n",
            "loss: 0.693399 [1024128/1432690]\n",
            "loss: 0.692953 [1152128/1432690]\n",
            "loss: 0.693358 [1280128/1432690]\n",
            "loss: 0.693384 [1408128/1432690]\n",
            "Test Error:\n",
            " Accuracy: 50.01382%, Avg. loss: 0.693147\n",
            "\n",
            "Epoch 7\n",
            "---------------------------\n",
            "loss: 0.693053 [  128/1432690]\n",
            "loss: 0.693220 [128128/1432690]\n",
            "loss: 0.692794 [256128/1432690]\n",
            "loss: 0.693022 [384128/1432690]\n",
            "loss: 0.692761 [512128/1432690]\n",
            "loss: 0.693481 [640128/1432690]\n",
            "loss: 0.693200 [768128/1432690]\n",
            "loss: 0.693195 [896128/1432690]\n",
            "loss: 0.693354 [1024128/1432690]\n",
            "loss: 0.692905 [1152128/1432690]\n",
            "loss: 0.693126 [1280128/1432690]\n",
            "loss: 0.693278 [1408128/1432690]\n",
            "Test Error:\n",
            " Accuracy: 50.01382%, Avg. loss: 0.693147\n",
            "\n",
            "Epoch 8\n",
            "---------------------------\n",
            "loss: 0.693211 [  128/1432690]\n",
            "loss: 0.693316 [128128/1432690]\n",
            "loss: 0.693064 [256128/1432690]\n",
            "loss: 0.693066 [384128/1432690]\n",
            "loss: 0.693219 [512128/1432690]\n",
            "loss: 0.693289 [640128/1432690]\n",
            "loss: 0.693140 [768128/1432690]\n",
            "loss: 0.692491 [896128/1432690]\n",
            "loss: 0.693011 [1024128/1432690]\n",
            "loss: 0.693136 [1152128/1432690]\n",
            "loss: 0.693099 [1280128/1432690]\n",
            "loss: 0.692988 [1408128/1432690]\n",
            "Test Error:\n",
            " Accuracy: 49.98618%, Avg. loss: 0.693151\n",
            "\n",
            "Epoch 9\n",
            "---------------------------\n",
            "loss: 0.692979 [  128/1432690]\n",
            "loss: 0.692622 [128128/1432690]\n",
            "loss: 0.693134 [256128/1432690]\n",
            "loss: 0.693112 [384128/1432690]\n",
            "loss: 0.693212 [512128/1432690]\n",
            "loss: 0.693061 [640128/1432690]\n",
            "loss: 0.693168 [768128/1432690]\n",
            "loss: 0.693014 [896128/1432690]\n",
            "loss: 0.693190 [1024128/1432690]\n",
            "loss: 0.693166 [1152128/1432690]\n",
            "loss: 0.693099 [1280128/1432690]\n",
            "loss: 0.693122 [1408128/1432690]\n",
            "Test Error:\n",
            " Accuracy: 49.98618%, Avg. loss: 0.693148\n",
            "\n",
            "Epoch 10\n",
            "---------------------------\n",
            "loss: 0.693333 [  128/1432690]\n",
            "loss: 0.693242 [128128/1432690]\n",
            "loss: 0.693092 [256128/1432690]\n",
            "loss: 0.692912 [384128/1432690]\n",
            "loss: 0.693024 [512128/1432690]\n",
            "loss: 0.693146 [640128/1432690]\n",
            "loss: 0.692984 [768128/1432690]\n",
            "loss: 0.693312 [896128/1432690]\n",
            "loss: 0.693208 [1024128/1432690]\n",
            "loss: 0.693166 [1152128/1432690]\n",
            "loss: 0.693268 [1280128/1432690]\n",
            "loss: 0.693134 [1408128/1432690]\n",
            "Test Error:\n",
            " Accuracy: 50.01382%, Avg. loss: 0.693152\n",
            "\n",
            "Done\n"
          ]
        }
      ],
      "source": [
        "rnn_loss_fn = nn.BCELoss()\n",
        "rnn_optimizer = torch.optim.Adam(rnn_model.parameters(), lr=1e-4, weight_decay=1e-5)\n",
        "epochs = 10\n",
        "train_loss_arr, train_acc_arr = [], []\n",
        "val_loss_arr, val_acc_arr = [], []\n",
        "\n",
        "for t in range(epochs):\n",
        "  print(f\"Epoch {t+1}\\n---------------------------\")\n",
        "  train_loss, train_acc = train_loop(train_loader, rnn_model, rnn_loss_fn, rnn_optimizer)\n",
        "  val_loss, val_acc = test_loop(val_loader, rnn_model, rnn_loss_fn)\n",
        "  train_loss_arr.append(train_loss)\n",
        "  train_acc_arr.append(train_acc)\n",
        "  val_loss_arr.append(val_loss)\n",
        "  val_acc_arr.append(val_acc)\n",
        "print(\"Done\")\n"
      ]
    },
    {
      "cell_type": "code",
      "execution_count": null,
      "metadata": {
        "id": "0Td0zRJ68_Fu"
      },
      "outputs": [],
      "source": [
        "train_acc_arr = [x.item() for x in train_acc_arr]\n",
        "val_acc_arr = [x.item() for x in val_acc_arr]"
      ]
    },
    {
      "cell_type": "code",
      "execution_count": null,
      "metadata": {
        "colab": {
          "base_uri": "https://localhost:8080/",
          "height": 276
        },
        "id": "Qa0a1-LI1f5_",
        "outputId": "fd7348f3-95b7-41fa-97d2-b87e5d244076"
      },
      "outputs": [
        {
          "data": {
            "image/png": "[encoded data removed]",
            "text/plain": [
              "<Figure size 1500x500 with 2 Axes>"
            ]
          },
          "metadata": {},
          "output_type": "display_data"
        }
      ],
      "source": [
        "fig, ax = plt.subplots(1, 2, figsize=(15, 5))\n",
        "ax[0].plot(train_loss_arr, label='Train Loss')\n",
        "ax[0].plot(val_loss_arr, label='Validation Loss')\n",
        "ax[1].plot(train_acc_arr, label='Train Accuracy')\n",
        "ax[1].plot(val_acc_arr, label='Validation Accuracy')\n",
        "ax[0].set_title('Loss')\n",
        "ax[1].set_title('Accuracy')\n",
        "ax[0].legend()\n",
        "ax[1].legend()\n",
        "plt.show()"
      ]
    },
    {
      "cell_type": "code",
      "execution_count": null,
      "metadata": {
        "id": "NW8JAbh089wu"
      },
      "outputs": [],
      "source": []
    }
  ],
  "metadata": {
    "accelerator": "GPU",
    "colab": {
      "gpuType": "T4",
      "provenance": []
    },
    "kernelspec": {
      "display_name": "Python 3",
      "name": "python3"
    },
    "language_info": {
      "codemirror_mode": {
        "name": "ipython",
        "version": 3
      },
      "file_extension": ".py",
      "mimetype": "text/x-python",
      "name": "python",
      "nbconvert_exporter": "python",
      "pygments_lexer": "ipython3",
      "version": "3.11.5"
    }
  },
  "nbformat": 4,
  "nbformat_minor": 0
}
